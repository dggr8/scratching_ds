{
 "cells": [
  {
   "cell_type": "code",
   "execution_count": 12,
   "metadata": {
    "collapsed": true
   },
   "outputs": [],
   "source": [
    "import matplotlib.pyplot as plt\n",
    "import random\n",
    "from collections import Counter\n",
    "import math"
   ]
  },
  {
   "cell_type": "code",
   "execution_count": 13,
   "metadata": {
    "collapsed": true
   },
   "outputs": [],
   "source": [
    "def bucketize(point,bucket_size):\n",
    "    return bucket_size*math.floor(point/bucket_size)"
   ]
  },
  {
   "cell_type": "code",
   "execution_count": 14,
   "metadata": {
    "collapsed": true
   },
   "outputs": [],
   "source": [
    "def make_histogram(points,bucket_size):\n",
    "    return Counter(bucketize(point,bucket_size) for point in points)"
   ]
  },
  {
   "cell_type": "code",
   "execution_count": 15,
   "metadata": {
    "collapsed": true
   },
   "outputs": [],
   "source": [
    "def plot_histogram(points,bucket_size,title=\"\"):\n",
    "    histogram = make_histogram(points,bucket_size)\n",
    "    plt.bar(histogram.keys(),histogram.values(),width=bucket_size)\n",
    "    plt.title(title)\n",
    "    plt.show()"
   ]
  },
  {
   "cell_type": "code",
   "execution_count": 16,
   "metadata": {
    "collapsed": false
   },
   "outputs": [],
   "source": [
    "random.seed(0)\n",
    "uniform = [200*random.random() - 100 for _ in range(10000)]\n",
    "plot_histogram(uniform,10,\"Uniform Histogram\")"
   ]
  },
  {
   "cell_type": "code",
   "execution_count": 21,
   "metadata": {
    "collapsed": true
   },
   "outputs": [],
   "source": [
    "def parse_row(input_row,parsers):\n",
    "        return [try_or_none(parser)(value) if parser is not None else value for value, parser in zip(input_row,parsers)]\n",
    "    \n",
    "def parse_rows_with(reader,parsers):\n",
    "    for row in reader:\n",
    "        yield parse_row(row,parsers)"
   ]
  },
  {
   "cell_type": "code",
   "execution_count": 22,
   "metadata": {
    "collapsed": true
   },
   "outputs": [],
   "source": [
    "def try_or_none(f):\n",
    "    def f_or_none(x):\n",
    "        try: return f(x)\n",
    "        except: return None\n",
    "    return f_or_none"
   ]
  },
  {
   "cell_type": "code",
   "execution_count": 23,
   "metadata": {
    "collapsed": false
   },
   "outputs": [],
   "source": [
    "import dateutil.parser\n",
    "import csv\n",
    "data = []\n",
    "with open(\"stock_prices.csv\",\"rb\") as f:\n",
    "    reader = csv.reader(f)\n",
    "    for line in parse_rows_with(reader,[dateutil.parser.parse,None,float]):\n",
    "        data.append(line)"
   ]
  },
  {
   "cell_type": "code",
   "execution_count": 24,
   "metadata": {
    "collapsed": false
   },
   "outputs": [
    {
     "name": "stdout",
     "output_type": "stream",
     "text": [
      "[datetime.datetime(2014, 6, 19, 0, 0), 'MSFT', None]\n"
     ]
    }
   ],
   "source": [
    "for row in data:\n",
    "    if any(x is None for x in row):\n",
    "        print row"
   ]
  },
  {
   "cell_type": "code",
   "execution_count": null,
   "metadata": {
    "collapsed": true
   },
   "outputs": [],
   "source": []
  }
 ],
 "metadata": {
  "kernelspec": {
   "display_name": "Python 2",
   "language": "python",
   "name": "python2"
  },
  "language_info": {
   "codemirror_mode": {
    "name": "ipython",
    "version": 2
   },
   "file_extension": ".py",
   "mimetype": "text/x-python",
   "name": "python",
   "nbconvert_exporter": "python",
   "pygments_lexer": "ipython2",
   "version": "2.7.11"
  }
 },
 "nbformat": 4,
 "nbformat_minor": 0
}
